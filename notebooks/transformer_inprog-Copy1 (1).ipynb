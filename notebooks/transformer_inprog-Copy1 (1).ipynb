{
 "cells": [
  {
   "cell_type": "code",
   "execution_count": 1,
   "id": "f3b31af5-f1f2-479c-a3ca-7603253f6efa",
   "metadata": {},
   "outputs": [],
   "source": [
    "import pandas as pd\n",
    "import numpy as np\n",
    "import matplotlib.pyplot as plt\n",
    "import seaborn as sns\n",
    "import torch\n",
    "import torch.nn as nn\n",
    "from sklearn.model_selection import train_test_split\n",
    "from sklearn.metrics import mean_squared_error, r2_score\n",
    "from sklearn.preprocessing import StandardScaler, MinMaxScaler\n",
    "\n",
    "# Ignore warnings\n",
    "import warnings\n",
    "warnings.filterwarnings('ignore')\n"
   ]
  },
  {
   "cell_type": "code",
   "execution_count": 2,
   "id": "3fd1db30-271a-4e13-a6a0-424a1017e5ad",
   "metadata": {},
   "outputs": [
    {
     "name": "stdout",
     "output_type": "stream",
     "text": [
      "       STATION        DATE   LATITUDE  LONGITUDE  ELEVATION  \\\n",
      "0  43279099999  2003-01-01  12.994414  80.180517      15.84   \n",
      "1  43279099999  2003-01-02  12.994414  80.180517      15.84   \n",
      "2  43279099999  2003-01-03  12.994414  80.180517      15.84   \n",
      "3  43279099999  2003-01-04  12.994414  80.180517      15.84   \n",
      "4  43279099999  2003-01-05  12.994414  80.180517      15.84   \n",
      "\n",
      "                        NAME  TEMP  TEMP_ATTRIBUTES  DEWP  DEWP_ATTRIBUTES  \\\n",
      "0  CHENNAI INTERNATIONAL, IN  78.0               11  68.7               11   \n",
      "1  CHENNAI INTERNATIONAL, IN  77.8               11  68.7               11   \n",
      "2  CHENNAI INTERNATIONAL, IN  79.1               11  69.2               11   \n",
      "3  CHENNAI INTERNATIONAL, IN  78.6                9  67.9                9   \n",
      "4  CHENNAI INTERNATIONAL, IN  79.0               10  68.4               10   \n",
      "\n",
      "   ...   MAX  MAX_ATTRIBUTES   MIN  MIN_ATTRIBUTES  PRCP  PRCP_ATTRIBUTES  \\\n",
      "0  ...  88.2                  68.0                   0.0                D   \n",
      "1  ...  84.9                  69.8                   0.0                D   \n",
      "2  ...  86.0               *  69.8                   0.0                A   \n",
      "3  ...  86.0                  70.7                   0.0                G   \n",
      "4  ...  86.7                  73.0               *   0.0                D   \n",
      "\n",
      "   FRSHTT  Month  Day   Humidity  \n",
      "0       0      1    1  88.076923  \n",
      "1       0      1    2  88.303342  \n",
      "2   10000      1    3  87.484197  \n",
      "3       0      1    4  86.386768  \n",
      "4       0      1    5  86.582278  \n",
      "\n",
      "[5 rows x 30 columns]\n"
     ]
    }
   ],
   "source": [
    "# File path\n",
    "file_path = r\"C:\\Users\\Haripriya.R\\Desktop\\studies\\SmartWindDashboard\\data\\cleaned_weather_data.csv\"\n",
    "\n",
    "# Load the dataset\n",
    "df = pd.read_csv(file_path)\n",
    "\n",
    "# Display the first 5 rows\n",
    "print(df.head())\n"
   ]
  },
  {
   "cell_type": "code",
   "execution_count": 3,
   "id": "2b7c35c3-f162-4c05-95ac-cf03c16a9042",
   "metadata": {},
   "outputs": [
    {
     "name": "stdout",
     "output_type": "stream",
     "text": [
      "NaN values in columns before cleaning:\n",
      " STATION                0\n",
      "DATE                   0\n",
      "LATITUDE               0\n",
      "LONGITUDE              0\n",
      "ELEVATION              0\n",
      "NAME                   0\n",
      "TEMP                   0\n",
      "TEMP_ATTRIBUTES        0\n",
      "DEWP                   0\n",
      "DEWP_ATTRIBUTES        0\n",
      "SLP                 7281\n",
      "SLP_ATTRIBUTES         0\n",
      "STP                 7279\n",
      "STP_ATTRIBUTES         0\n",
      "VISIB                  1\n",
      "VISIB_ATTRIBUTES       0\n",
      "WDSP                   0\n",
      "WDSP_ATTRIBUTES        0\n",
      "MXSPD                  5\n",
      "GUST                6194\n",
      "MAX                    0\n",
      "MAX_ATTRIBUTES         0\n",
      "MIN                    0\n",
      "MIN_ATTRIBUTES         0\n",
      "PRCP                   0\n",
      "PRCP_ATTRIBUTES        0\n",
      "FRSHTT                 0\n",
      "Month                  0\n",
      "Day                    0\n",
      "Humidity               0\n",
      "dtype: int64\n",
      "NaN values after filling median for numeric columns:\n",
      " STATION             0\n",
      "DATE                0\n",
      "LATITUDE            0\n",
      "LONGITUDE           0\n",
      "ELEVATION           0\n",
      "NAME                0\n",
      "TEMP                0\n",
      "TEMP_ATTRIBUTES     0\n",
      "DEWP                0\n",
      "DEWP_ATTRIBUTES     0\n",
      "SLP                 0\n",
      "SLP_ATTRIBUTES      0\n",
      "STP                 0\n",
      "STP_ATTRIBUTES      0\n",
      "VISIB               0\n",
      "VISIB_ATTRIBUTES    0\n",
      "WDSP                0\n",
      "WDSP_ATTRIBUTES     0\n",
      "MXSPD               0\n",
      "GUST                0\n",
      "MAX                 0\n",
      "MAX_ATTRIBUTES      0\n",
      "MIN                 0\n",
      "MIN_ATTRIBUTES      0\n",
      "PRCP                0\n",
      "PRCP_ATTRIBUTES     0\n",
      "FRSHTT              0\n",
      "Month               0\n",
      "Day                 0\n",
      "Humidity            0\n",
      "dtype: int64\n",
      "Final NaN values in the dataset:\n",
      " STATION             0\n",
      "DATE                0\n",
      "LATITUDE            0\n",
      "LONGITUDE           0\n",
      "ELEVATION           0\n",
      "NAME                0\n",
      "TEMP                0\n",
      "TEMP_ATTRIBUTES     0\n",
      "DEWP                0\n",
      "DEWP_ATTRIBUTES     0\n",
      "SLP                 0\n",
      "SLP_ATTRIBUTES      0\n",
      "STP                 0\n",
      "STP_ATTRIBUTES      0\n",
      "VISIB               0\n",
      "VISIB_ATTRIBUTES    0\n",
      "WDSP                0\n",
      "WDSP_ATTRIBUTES     0\n",
      "MXSPD               0\n",
      "GUST                0\n",
      "MAX                 0\n",
      "MAX_ATTRIBUTES      0\n",
      "MIN                 0\n",
      "MIN_ATTRIBUTES      0\n",
      "PRCP                0\n",
      "PRCP_ATTRIBUTES     0\n",
      "FRSHTT              0\n",
      "Month               0\n",
      "Day                 0\n",
      "Humidity            0\n",
      "dtype: int64\n"
     ]
    }
   ],
   "source": [
    "# Check for NaN values in each column\n",
    "print(\"NaN values in columns before cleaning:\\n\", df.isnull().sum())\n",
    "\n",
    "# Identify numeric columns\n",
    "numeric_columns = df.select_dtypes(include=['float64', 'int64']).columns\n",
    "\n",
    "# Fill NaN for numeric columns with their median\n",
    "df[numeric_columns] = df[numeric_columns].fillna(df[numeric_columns].median())\n",
    "\n",
    "print(\"NaN values after filling median for numeric columns:\\n\", df.isnull().sum())\n",
    "\n",
    "# Fill NaN in non-numeric columns with a placeholder\n",
    "non_numeric_columns = df.select_dtypes(exclude=['float64', 'int64']).columns\n",
    "df[non_numeric_columns] = df[non_numeric_columns].fillna('Unknown')\n",
    "\n",
    "\n",
    "\n",
    "print(\"Final NaN values in the dataset:\\n\", df.isnull().sum())\n",
    "\n"
   ]
  },
  {
   "cell_type": "code",
   "execution_count": 4,
   "id": "c177bc8e-ec6c-4c09-ba73-022883619db8",
   "metadata": {},
   "outputs": [
    {
     "name": "stdout",
     "output_type": "stream",
     "text": [
      "       STATION   LATITUDE  LONGITUDE  ELEVATION                       NAME  \\\n",
      "0  43279099999  12.994414  80.180517      15.84  CHENNAI INTERNATIONAL, IN   \n",
      "1  43279099999  12.994414  80.180517      15.84  CHENNAI INTERNATIONAL, IN   \n",
      "2  43279099999  12.994414  80.180517      15.84  CHENNAI INTERNATIONAL, IN   \n",
      "3  43279099999  12.994414  80.180517      15.84  CHENNAI INTERNATIONAL, IN   \n",
      "4  43279099999  12.994414  80.180517      15.84  CHENNAI INTERNATIONAL, IN   \n",
      "\n",
      "   TEMP  TEMP_ATTRIBUTES  DEWP  DEWP_ATTRIBUTES     SLP  ...  PRCP  \\\n",
      "0  78.0               11  68.7               11  1013.1  ...   0.0   \n",
      "1  77.8               11  68.7               11  1015.1  ...   0.0   \n",
      "2  79.1               11  69.2               11  1015.0  ...   0.0   \n",
      "3  78.6                9  67.9                9  1014.9  ...   0.0   \n",
      "4  79.0               10  68.4               10  1015.6  ...   0.0   \n",
      "\n",
      "   PRCP_ATTRIBUTES  FRSHTT  Month  Day   Humidity  Year  Temp_Range  \\\n",
      "0                D       0      1    1  88.076923  2003        20.2   \n",
      "1                D       0      1    2  88.303342  2003        15.1   \n",
      "2                A   10000      1    3  87.484197  2003        16.2   \n",
      "3                G       0      1    4  86.386768  2003        15.3   \n",
      "4                D       0      1    5  86.582278  2003        13.7   \n",
      "\n",
      "   Wind_Range  Humidity_Index  \n",
      "0         2.7        0.885590  \n",
      "1         6.6        0.881054  \n",
      "2         6.8        0.904163  \n",
      "3         6.4        0.909862  \n",
      "4         7.8        0.912427  \n",
      "\n",
      "[5 rows x 33 columns]\n"
     ]
    }
   ],
   "source": [
    "# Convert 'DATE' to datetime\n",
    "df['DATE'] = pd.to_datetime(df['DATE'])\n",
    "\n",
    "# Extract date features\n",
    "df['Year'] = df['DATE'].dt.year\n",
    "df['Month'] = df['DATE'].dt.month\n",
    "df['Day'] = df['DATE'].dt.day\n",
    "\n",
    "# Add custom features\n",
    "df['Temp_Range'] = df['MAX'] - df['MIN']  # Temperature range\n",
    "df['Wind_Range'] = df['MXSPD'] - df['WDSP']  # Wind speed variation\n",
    "df['Humidity_Index'] = df['TEMP'] / df['Humidity']  # Custom feature\n",
    "\n",
    "# Drop 'DATE' column after feature extraction\n",
    "df = df.drop(columns=['DATE'], axis=1)\n",
    "\n",
    "# Display updated DataFrame\n",
    "print(df.head())\n"
   ]
  },
  {
   "cell_type": "code",
   "execution_count": 26,
   "id": "7588ff47-3c0f-4850-b235-ee8b13e678cf",
   "metadata": {},
   "outputs": [
    {
     "name": "stdout",
     "output_type": "stream",
     "text": [
      "Features standardized successfully!\n"
     ]
    }
   ],
   "source": [
    "# Define the target column\n",
    "target = 'WDSP'  # Wind speed prediction\n",
    "\n",
    "# Identify numeric columns only\n",
    "numeric_columns = df.select_dtypes(include=['float64', 'int64']).columns\n",
    "\n",
    "# Define features (X) and target (y)\n",
    "X = df[numeric_columns].drop(columns=[target], errors='ignore')  # Replace 'target_column_name' with your target column\n",
    "y = df[target]  # Replace 'target_column_name' with the actual column name\n",
    "from sklearn.preprocessing import StandardScaler\n",
    "\n",
    "# Standardize features (numeric only)\n",
    "scaler = StandardScaler()\n",
    "X_scaled = scaler.fit_transform(X)\n",
    "\n",
    "print(\"Features standardized successfully!\")\n"
   ]
  },
  {
   "cell_type": "code",
   "execution_count": 27,
   "id": "12b88f91-08ec-4388-bf7a-631248891493",
   "metadata": {},
   "outputs": [
    {
     "name": "stdout",
     "output_type": "stream",
     "text": [
      "NaN in X_train_tensor: tensor(False)\n",
      "NaN in y_train_tensor: tensor(False)\n"
     ]
    }
   ],
   "source": [
    "# Convert to PyTorch tensors\n",
    "X_tensor = torch.tensor(X_scaled, dtype=torch.float32)\n",
    "y_tensor = torch.tensor(y.values, dtype=torch.float32).unsqueeze(1)  # Reshape y\n",
    "\n",
    "# Split into train and test sets\n",
    "X_train, X_test, y_train, y_test = train_test_split(X_tensor, y_tensor, test_size=0.2, random_state=42)\n",
    "\n",
    "# Check for NaN in tensors\n",
    "print(\"NaN in X_train_tensor:\", torch.isnan(X_train).any())\n",
    "print(\"NaN in y_train_tensor:\", torch.isnan(y_train).any())\n"
   ]
  },
  {
   "cell_type": "code",
   "execution_count": 28,
   "id": "92cab7c5-cca8-4531-821a-52ec5d3b7771",
   "metadata": {},
   "outputs": [],
   "source": [
    "class TimeSeriesTransformer(nn.Module):\n",
    "    def __init__(self, input_dim, output_dim, num_heads=4, num_layers=2, hidden_dim=64, dropout=0.1):\n",
    "        super(TimeSeriesTransformer, self).__init__()\n",
    "\n",
    "        self.embedding = nn.Linear(input_dim, hidden_dim)\n",
    "        self.positional_encoding = nn.Parameter(torch.rand(1, 1000, hidden_dim))  # Positional encodings\n",
    "\n",
    "        self.transformer = nn.Transformer(\n",
    "            d_model=hidden_dim,\n",
    "            nhead=num_heads,\n",
    "            num_encoder_layers=num_layers,\n",
    "            num_decoder_layers=num_layers,\n",
    "            dim_feedforward=hidden_dim,\n",
    "            dropout=dropout\n",
    "        )\n",
    "\n",
    "        self.fc_out = nn.Linear(hidden_dim, output_dim)\n",
    "\n",
    "    def forward(self, x):\n",
    "        batch_size, seq_len, input_dim = x.shape\n",
    "        x = self.embedding(x) + self.positional_encoding[:, :seq_len, :]\n",
    "        x = x.permute(1, 0, 2)  # Reshape for transformer: (seq_len, batch_size, features)\n",
    "        transformer_out = self.transformer(x, x)\n",
    "        out = self.fc_out(transformer_out[-1, :, :])  # Output from last time step\n",
    "        return out\n"
   ]
  },
  {
   "cell_type": "code",
   "execution_count": 29,
   "id": "5f548ab9-bc49-488f-8745-14a6d6dcc799",
   "metadata": {},
   "outputs": [
    {
     "name": "stdout",
     "output_type": "stream",
     "text": [
      "Model initialized successfully!\n"
     ]
    }
   ],
   "source": [
    "# Model parameters\n",
    "input_dim = X_train.shape[1]\n",
    "output_dim = 1\n",
    "num_heads = 8\n",
    "num_layers = 3\n",
    "hidden_dim = 64\n",
    "dropout = 0.2  # Dropout value based on your tuning\n",
    "learning_rate = 0.001  # Learning rate based on your tuning\n",
    "batch_size = 64  # Batch size based on your tuning\n",
    "\n",
    "# Initialize model, loss function, and optimizer\n",
    "model = TimeSeriesTransformer(input_dim=input_dim, \n",
    "                                      output_dim=output_dim, \n",
    "                                      num_heads=num_heads, \n",
    "                                      num_layers=num_layers, \n",
    "                                      hidden_dim=hidden_dim, \n",
    "                                      dropout=dropout)\n",
    "\n",
    "criterion = nn.MSELoss()  # Loss function (Mean Squared Error)\n",
    "optimizer = torch.optim.Adam(model.parameters(), lr=learning_rate)  # Adam optimizer with learning rate\n",
    "\n",
    "print(\"Model initialized successfully!\")\n"
   ]
  },
  {
   "cell_type": "code",
   "execution_count": 30,
   "id": "73014f38-a0e4-4dae-9719-0e600ac2c82c",
   "metadata": {},
   "outputs": [
    {
     "name": "stdout",
     "output_type": "stream",
     "text": [
      "Epoch 0/400, Loss: 39.2912\n",
      "Epoch 5/400, Loss: 10.4510\n",
      "Epoch 10/400, Loss: 6.5556\n",
      "Epoch 15/400, Loss: 5.2261\n",
      "Epoch 20/400, Loss: 4.5353\n",
      "Epoch 25/400, Loss: 4.2331\n",
      "Epoch 30/400, Loss: 4.2116\n",
      "Epoch 35/400, Loss: 4.1877\n",
      "Epoch 40/400, Loss: 4.0533\n",
      "Epoch 45/400, Loss: 3.0006\n",
      "Epoch 50/400, Loss: 2.9112\n",
      "Epoch 55/400, Loss: 2.3565\n",
      "Epoch 60/400, Loss: 1.8692\n",
      "Epoch 65/400, Loss: 1.4254\n",
      "Epoch 70/400, Loss: 1.0235\n",
      "Epoch 75/400, Loss: 0.8175\n",
      "Epoch 80/400, Loss: 0.6147\n",
      "Epoch 85/400, Loss: 0.5091\n",
      "Epoch 90/400, Loss: 0.4623\n",
      "Epoch 95/400, Loss: 0.3989\n",
      "Epoch 100/400, Loss: 0.3601\n",
      "Epoch 105/400, Loss: 0.3546\n",
      "Epoch 110/400, Loss: 0.3175\n",
      "Epoch 115/400, Loss: 0.3003\n",
      "Epoch 120/400, Loss: 0.2869\n",
      "Epoch 125/400, Loss: 0.2786\n",
      "Epoch 130/400, Loss: 0.2569\n",
      "Epoch 135/400, Loss: 0.2418\n",
      "Epoch 140/400, Loss: 0.2420\n",
      "Epoch 145/400, Loss: 0.2348\n",
      "Epoch 150/400, Loss: 0.2150\n",
      "Epoch 155/400, Loss: 0.2097\n",
      "Epoch 160/400, Loss: 0.2098\n",
      "Epoch 165/400, Loss: 0.2076\n",
      "Epoch 170/400, Loss: 0.2004\n",
      "Epoch 175/400, Loss: 0.1890\n",
      "Epoch 180/400, Loss: 0.1849\n",
      "Epoch 185/400, Loss: 0.1790\n",
      "Epoch 190/400, Loss: 0.1733\n",
      "Epoch 195/400, Loss: 0.1735\n",
      "Epoch 200/400, Loss: 0.1674\n",
      "Epoch 205/400, Loss: 0.1662\n",
      "Epoch 210/400, Loss: 0.1589\n",
      "Epoch 215/400, Loss: 0.1617\n",
      "Epoch 220/400, Loss: 0.1556\n",
      "Epoch 225/400, Loss: 0.1644\n",
      "Epoch 230/400, Loss: 0.1543\n",
      "Epoch 235/400, Loss: 0.1481\n",
      "Epoch 240/400, Loss: 0.1403\n",
      "Epoch 245/400, Loss: 0.1387\n",
      "Epoch 250/400, Loss: 0.1390\n",
      "Epoch 255/400, Loss: 0.1359\n",
      "Epoch 260/400, Loss: 0.1296\n",
      "Epoch 265/400, Loss: 0.1314\n",
      "Epoch 270/400, Loss: 0.1281\n",
      "Epoch 275/400, Loss: 0.1266\n",
      "Epoch 280/400, Loss: 0.1244\n",
      "Epoch 285/400, Loss: 0.1232\n",
      "Epoch 290/400, Loss: 0.1176\n",
      "Epoch 295/400, Loss: 0.1226\n",
      "Epoch 300/400, Loss: 0.1172\n",
      "Epoch 305/400, Loss: 0.1189\n",
      "Epoch 310/400, Loss: 0.1154\n",
      "Epoch 315/400, Loss: 0.1169\n",
      "Epoch 320/400, Loss: 0.1116\n",
      "Epoch 325/400, Loss: 0.1109\n",
      "Epoch 330/400, Loss: 0.1080\n",
      "Epoch 335/400, Loss: 0.1039\n",
      "Epoch 340/400, Loss: 0.1050\n",
      "Epoch 345/400, Loss: 0.1058\n",
      "Epoch 350/400, Loss: 0.0995\n",
      "Epoch 355/400, Loss: 0.1002\n",
      "Epoch 360/400, Loss: 0.1005\n",
      "Epoch 365/400, Loss: 0.0967\n",
      "Epoch 370/400, Loss: 0.1001\n",
      "Epoch 375/400, Loss: 0.0980\n",
      "Epoch 380/400, Loss: 0.0921\n",
      "Epoch 385/400, Loss: 0.0965\n",
      "Epoch 390/400, Loss: 0.0938\n",
      "Epoch 395/400, Loss: 0.0921\n"
     ]
    }
   ],
   "source": [
    "# Reshape data for sequence input\n",
    "X_train_seq = X_train.unsqueeze(1)  # Add sequence dimension (batch_size, seq_len=1, features)\n",
    "X_test_seq = X_test.unsqueeze(1)\n",
    "\n",
    "# Training loop\n",
    "n_epochs = 400\n",
    "for epoch in range(n_epochs):\n",
    "    model.train()\n",
    "    optimizer.zero_grad()\n",
    "\n",
    "    # Forward pass\n",
    "    predictions = model(X_train_seq).squeeze()\n",
    "    loss = criterion(predictions, y_train.squeeze())\n",
    "\n",
    "    # Backward pass and optimization\n",
    "    loss.backward()\n",
    "    torch.nn.utils.clip_grad_norm_(model.parameters(), max_norm=1.0)  # Gradient clipping\n",
    "    optimizer.step()\n",
    "\n",
    "    if epoch % 5 == 0:\n",
    "        print(f\"Epoch {epoch}/{n_epochs}, Loss: {loss.item():.4f}\")\n"
   ]
  },
  {
   "cell_type": "code",
   "execution_count": 31,
   "id": "c091dfa0-adf2-43ca-809a-1911871d2502",
   "metadata": {},
   "outputs": [
    {
     "name": "stdout",
     "output_type": "stream",
     "text": [
      "Mean Squared Error: 0.0966\n",
      "R2 Score: 0.9770\n"
     ]
    }
   ],
   "source": [
    "model.eval()\n",
    "with torch.no_grad():\n",
    "    y_pred = model(X_test_seq).squeeze()\n",
    "\n",
    "# Convert tensors to numpy\n",
    "y_test_np = y_test.squeeze().numpy()\n",
    "y_pred_np = y_pred.numpy()\n",
    "\n",
    "# Evaluation metrics\n",
    "mse = mean_squared_error(y_test_np, y_pred_np)\n",
    "r2 = r2_score(y_test_np, y_pred_np)\n",
    "\n",
    "print(f\"Mean Squared Error: {mse:.4f}\")\n",
    "print(f\"R2 Score: {r2:.4f}\")\n"
   ]
  },
  {
   "cell_type": "code",
   "execution_count": 32,
   "id": "3489c75b-261b-443d-a41f-21fea1d597f7",
   "metadata": {},
   "outputs": [
    {
     "data": {
      "image/png": "[encoded data removed]",
      "text/plain": [
       "<Figure size 1000x600 with 1 Axes>"
      ]
     },
     "metadata": {},
     "output_type": "display_data"
    }
   ],
   "source": [
    "plt.figure(figsize=(10, 6))\n",
    "plt.scatter(y_test_np, y_pred_np, color='blue', alpha=0.5)\n",
    "plt.plot([min(y_test_np), max(y_test_np)], [min(y_test_np), max(y_test_np)], color='red', linestyle='--', label='Ideal Prediction Line')\n",
    "plt.title('Actual vs Predicted Values (Transformer Model)')\n",
    "plt.xlabel('Actual Values')\n",
    "plt.ylabel('Predicted Values')\n",
    "plt.legend()\n",
    "plt.show()\n"
   ]
  },
  {
   "cell_type": "code",
   "execution_count": 35,
   "id": "b6030a93-fabe-4768-8887-47e10471ccf4",
   "metadata": {},
   "outputs": [
    {
     "name": "stdout",
     "output_type": "stream",
     "text": [
      "Entire model saved successfully at C:\\Users\\Haripriya.R\\Desktop\\studies\\SmartWindDashboard\\models\\transformer_model_complete.pth\n"
     ]
    }
   ],
   "source": [
    "# Save the entire model\n",
    "model_path = r\"C:\\Users\\Haripriya.R\\Desktop\\studies\\SmartWindDashboard\\models\\transformer_model_complete.pth\"\n",
    "torch.save(model, model_path)\n",
    "print(f\"Entire model saved successfully at {model_path}\")\n"
   ]
  },
  {
   "cell_type": "code",
   "execution_count": 36,
   "id": "7811627b-793d-4d29-9b6f-ea97ad0ccbb2",
   "metadata": {},
   "outputs": [
    {
     "name": "stdout",
     "output_type": "stream",
     "text": [
      "Entire model loaded successfully!\n"
     ]
    }
   ],
   "source": [
    "# Load the entire model\n",
    "model = torch.load(model_path)\n",
    "model.eval()  # Set to evaluation mode\n",
    "print(\"Entire model loaded successfully!\")\n"
   ]
  },
  {
   "cell_type": "code",
   "execution_count": 37,
   "id": "5f70736b-053f-4984-b1d0-3f8c10cb97e4",
   "metadata": {},
   "outputs": [
    {
     "name": "stdout",
     "output_type": "stream",
     "text": [
      "Training features used: ['STATION', 'LATITUDE', 'LONGITUDE', 'ELEVATION', 'TEMP', 'TEMP_ATTRIBUTES', 'DEWP', 'DEWP_ATTRIBUTES', 'SLP', 'SLP_ATTRIBUTES', 'STP', 'STP_ATTRIBUTES', 'VISIB', 'VISIB_ATTRIBUTES', 'WDSP_ATTRIBUTES', 'MXSPD', 'GUST', 'MAX', 'MIN', 'PRCP', 'FRSHTT', 'Humidity', 'Temp_Range', 'Wind_Range', 'Humidity_Index']\n"
     ]
    }
   ],
   "source": [
    "print(\"Training features used:\", X.columns.tolist())\n"
   ]
  },
  {
   "cell_type": "code",
   "execution_count": 42,
   "id": "7cbd0216-5086-49d1-9b92-f0e7392bc920",
   "metadata": {},
   "outputs": [
    {
     "name": "stdout",
     "output_type": "stream",
     "text": [
      "Predictions: tensor([[13.0380],\n",
      "        [13.0378],\n",
      "        [13.0430],\n",
      "        [13.0379]])\n"
     ]
    }
   ],
   "source": [
    "import pandas as pd\n",
    "import numpy as np\n",
    "import torch\n",
    "\n",
    "# Provided test data\n",
    "data = {\n",
    "    \"STATION\": [43279099999, 43279099999, 43279099999, 43279099999],\n",
    "    \"LATITUDE\": [12.994414, 12.994414, 12.994414, 12.994414],\n",
    "    \"LONGITUDE\": [80.180517, 80.180517, 80.180517, 80.180517],\n",
    "    \"ELEVATION\": [15.84, 15.84, 15.84, 15.84],\n",
    "    \"TEMP\": [78, 77.8, 79.1, 78.6],\n",
    "    \"TEMP_ATTRIBUTES\": [11, 11, 11, 9],\n",
    "    \"DEWP\": [68.7, 68.7, 69.2, 67.9],\n",
    "    \"DEWP_ATTRIBUTES\": [11, 11, 11, 9],\n",
    "    \"SLP\": [1013.1, 1015.1, 1015, 1014.9],\n",
    "    \"SLP_ATTRIBUTES\": [6, 7, 6, 7],\n",
    "    \"STP\": [11.3, 13.3, 13.2, 13.1],\n",
    "    \"STP_ATTRIBUTES\": [6, 7, 6, 7],\n",
    "    \"VISIB\": [3.9, 3.9, 3.4, 3.8],\n",
    "    \"VISIB_ATTRIBUTES\": [9, 10, 9, 8],\n",
    "    \"WDSP\": [3.3, 3.3, 5.2, 3.5],\n",
    "    \"WDSP_ATTRIBUTES\": [11, 11, 11, 9],\n",
    "    \"MXSPD\": [6, 9.9, 12, 9.9],\n",
    "    \"MAX\": [88.2, 84.9, 86, 86],\n",
    "    \"MIN\": [68, 69.8, 69.8, 70.7],\n",
    "    \"PRCP\": [0, 0, 0, 0],\n",
    "    \"FRSHTT\": [0, 0, 10000, 0],\n",
    "    \"Humidity\": [88.07692308, 88.3033419, 87.48419722, 86.38676845],\n",
    "    \"GUST\":[0,0,0,0],\n",
    "}\n",
    "\n",
    "# Create DataFrame\n",
    "test_df = pd.DataFrame(data)\n",
    "\n",
    "# Compute missing features\n",
    "test_df[\"Temp_Range\"] = test_df[\"MAX\"] - test_df[\"MIN\"]\n",
    "test_df[\"Wind_Range\"] = test_df[\"MXSPD\"] - test_df[\"WDSP\"]\n",
    "test_df[\"GUST\"] = test_df[\"GUST\"].fillna(0)  # Replace NaN GUST values with 0\n",
    "test_df[\"Humidity_Index\"] = test_df[\"Humidity\"]  # Assume same as Humidity for simplicity\n",
    "\n",
    "# Selected features from training\n",
    "required_features = [\n",
    "    \"STATION\", \"LATITUDE\", \"LONGITUDE\", \"ELEVATION\", \"TEMP\", \"TEMP_ATTRIBUTES\",\n",
    "    \"DEWP\", \"DEWP_ATTRIBUTES\", \"SLP\", \"SLP_ATTRIBUTES\", \"STP\", \"STP_ATTRIBUTES\",\n",
    "    \"VISIB\", \"VISIB_ATTRIBUTES\",  \"WDSP_ATTRIBUTES\", \"MXSPD\", \"GUST\",\n",
    "    \"MAX\", \"MIN\", \"PRCP\", \"FRSHTT\", \"Humidity\", \"Temp_Range\", \"Wind_Range\", \"Humidity_Index\"\n",
    "]\n",
    "\n",
    "# Ensure all required features are present\n",
    "test_df = test_df[required_features]\n",
    "\n",
    "# Scale the test data using the same scaler used in training\n",
    "X_test_scaled = scaler.transform(test_df)\n",
    "\n",
    "# Convert to PyTorch tensor\n",
    "X_test_tensor = torch.tensor(X_test_scaled, dtype=torch.float32)\n",
    "\n",
    "# Reshape to match model's input: (batch_size, seq_len=1, input_dim=26)\n",
    "X_test_tensor = X_test_tensor.unsqueeze(1)  # Add sequence dimension\n",
    "\n",
    "# Pass to model and get predictions\n",
    "model.eval()\n",
    "with torch.no_grad():\n",
    "    y_pred = model(X_test_tensor)\n",
    "\n",
    "# Output predictions\n",
    "print(\"Predictions:\", y_pred)\n"
   ]
  },
  {
   "cell_type": "code",
   "execution_count": null,
   "id": "6161d33a-e157-4580-b9dc-35c2c7b4b596",
   "metadata": {},
   "outputs": [],
   "source": []
  }
 ],
 "metadata": {
  "kernelspec": {
   "display_name": "Python (myenv)",
   "language": "python",
   "name": "myenv"
  },
  "language_info": {
   "codemirror_mode": {
    "name": "ipython",
    "version": 3
   },
   "file_extension": ".py",
   "mimetype": "text/x-python",
   "name": "python",
   "nbconvert_exporter": "python",
   "pygments_lexer": "ipython3",
   "version": "3.12.4"
  }
 },
 "nbformat": 4,
 "nbformat_minor": 5
}
